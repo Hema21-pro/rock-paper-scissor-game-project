{
 "cells": [
  {
   "cell_type": "code",
   "execution_count": 2,
   "metadata": {
    "colab": {
     "base_uri": "https://localhost:8080/"
    },
    "executionInfo": {
     "elapsed": 41627,
     "status": "ok",
     "timestamp": 1747141938355,
     "user": {
      "displayName": "Hema Latha",
      "userId": "01963126735930679226"
     },
     "user_tz": -330
    },
    "id": "WrwsDnVDxJ3V",
    "outputId": "20d4532b-3b53-42b3-cd9a-70b0eef1e5b0"
   },
   "outputs": [
    {
     "name": "stdout",
     "output_type": "stream",
     "text": [
      "\n",
      " you choose paper,computer choose rock.\n",
      "\n",
      "paper covers rock! you win!\n"
     ]
    }
   ],
   "source": [
    "import random\n",
    "while True:\n",
    "    person = input(\"enter a choice(rock,paper,scissors):\")\n",
    "    possible_action = [\"rock\",\"paper\",\"scissors\"]\n",
    "    computer_action = random.choice(possible_action)\n",
    "    print(f\"\\n you choose {person},computer choose {computer_action}.\\n\")\n",
    "    if person == computer_action:\n",
    "        print(f\"both players are selected {person} ,it's a tie!\")\n",
    "    elif person == \"rock\":\n",
    "        if computer_action == \"scissors\":\n",
    "          print(\"rock breaks scissors! you win!\")\n",
    "        else:\n",
    "          print(\"paper covers rock! you lose!\")\n",
    "    elif person == \"paper\":\n",
    "        if computer_action == \"rock\":\n",
    "          print(\"paper covers rock! you win!\")\n",
    "        else:\n",
    "          print(\"scissors cuts paper! you lose!\")\n",
    "    elif person == \"scissors\":\n",
    "        if computer_action == \"paper\":\n",
    "          print(\"scissors cuts paper! you win!\")\n",
    "        else:\n",
    "         print(\"rock breaks scissors! you lose!\")\n",
    "    else:\n",
    "        print(\"Invalid input. Please enter rock,paper,scissor\")\n",
    "    play_again = input(\"Play again? (y/n): \")\n",
    "    if play_again.lower() != \"y\":\n",
    "       break"
   ]
  },
  {
   "cell_type": "code",
   "execution_count": null,
   "metadata": {
    "id": "URJEHMxFynAj"
   },
   "outputs": [],
   "source": []
  }
 ],
 "metadata": {
  "colab": {
   "authorship_tag": "ABX9TyMyg4b/QD3YdE4eqYD6L2ev",
   "provenance": []
  },
  "kernelspec": {
   "display_name": "Python 3",
   "name": "python3"
  },
  "language_info": {
   "codemirror_mode": {
    "name": "ipython",
    "version": 3
   },
   "file_extension": ".py",
   "mimetype": "text/x-python",
   "name": "python",
   "nbconvert_exporter": "python",
   "pygments_lexer": "ipython3",
   "version": "3.11.9"
  }
 },
 "nbformat": 4,
 "nbformat_minor": 0
}
